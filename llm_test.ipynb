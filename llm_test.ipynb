{
 "cells": [
  {
   "cell_type": "code",
   "execution_count": null,
   "metadata": {},
   "outputs": [],
   "source": [
    "import json\n",
    "import requests\n",
    "import time\n",
    "\n",
    "def call_local_llm(url, role, prompt):\n",
    "    headers = {\n",
    "        \"accept\": \"application/json\",\n",
    "        \"Content-Type\": \"application/json\"\n",
    "    }\n",
    "\n",
    "    params = {\n",
    "        \"message_self\": True  # 設定傳入的訊息參數\n",
    "    }\n",
    "\n",
    "    data = [\n",
    "        {\"role\": \"system\", \"content\": role},\n",
    "        {\"role\": \"user\", \"content\": prompt},\n",
    "        # {\"role\": \"assistant\", \"content\": prompt}\n",
    "    ]\n",
    "\n",
    "    response = requests.post(url, headers=headers, params=params, json=data)\n",
    "    return response.text\n",
    "# 讀取 JSON 文件\n",
    "with open('dataset/preliminary/questions_example.json', 'r', encoding='utf-8') as file:\n",
    "    data = json.load(file)\n",
    "\n",
    "# 定義改寫問題的函數\n",
    "def enhance_question(original_question: str, context: str = \"\", focus: str = \"一般\"):\n",
    "    prompt_template = f\"\"\"\n",
    "    請協助優化並生成多重搜尋問題，並根據以下原始問題：\n",
    "    \n",
    "    原始問題：{original_question}\n",
    "\n",
    "    \"\"\"\n",
    "    \n",
    "    system_prompt = \"\"\"你是金融領域的專業問題優化助理，你擅長生成多重查詢的問題，\n",
    "    根據輸入的一個問題，生成多個相關問題，並遵守以下規則：\n",
    "    1. 只需直接輸出生成的問題，不提供額外解釋、文字及回答\n",
    "    2. 保持問題簡潔（50字內）\n",
    "    3. 確保包含完整的時間、主體、事件資訊\n",
    "    4. 使用準確的金融專業術語\n",
    "    5. 避免過度延伸原意、冗長敘述\n",
    "    6. 最多生成4個相關問題\n",
    "    \"\"\"\n",
    "\n",
    "    response = call_local_llm(\n",
    "        url='http://127.0.0.1:8087/chat',\n",
    "        role=system_prompt,\n",
    "        prompt=prompt_template\n",
    "    )\n",
    "    \n",
    "    return response\n",
    "\n",
    "# 改寫所有問題並將改寫後的問題與原來的問題相加\n",
    "\n",
    "\n",
    "for question in data['questions']:\n",
    "    if 'query' in question:\n",
    "        start_time = time.time()\n",
    "        original_query = question['query']\n",
    "        enhanced_query = enhance_question(original_query)\n",
    "        print(f\"原始問題：{original_query}\")\n",
    "        print(f\"改寫後問題：{enhanced_query}\")\n",
    "        question['query'] = original_query + \" \" + enhanced_query\n",
    "        end_time = time.time()\n",
    "        print(f\"改寫問題所需時間: {end_time - start_time} 秒\")\n",
    "\n",
    "\n",
    "# 將改寫後的問題寫入新的 JSON 文件\n",
    "with open('enhanced_questions.json', 'w', encoding='utf-8') as file:\n",
    "    json.dump(data, file, ensure_ascii=False, indent=4)\n",
    "\n",
    "print(\"問題改寫完成並已輸出至 enhanced_questions.json\")"
   ]
  },
  {
   "cell_type": "code",
   "execution_count": 1,
   "metadata": {},
   "outputs": [
    {
     "data": {
      "application/vnd.jupyter.widget-view+json": {
       "model_id": "4628c5fc341443728bdd3f3d2ba6f134",
       "version_major": 2,
       "version_minor": 0
      },
      "text/plain": [
       "config.json:   0%|          | 0.00/701 [00:00<?, ?B/s]"
      ]
     },
     "metadata": {},
     "output_type": "display_data"
    },
    {
     "name": "stderr",
     "output_type": "stream",
     "text": [
      "c:\\Users\\marks\\anaconda3\\envs\\poetry3.11\\Lib\\site-packages\\huggingface_hub\\file_download.py:157: UserWarning: `huggingface_hub` cache-system uses symlinks by default to efficiently store duplicated files but your machine does not support them in C:\\Users\\marks\\.cache\\huggingface\\hub\\models--ckiplab--bert-base-chinese. Caching files will still work but in a degraded version that might require more space on your disk. This warning can be disabled by setting the `HF_HUB_DISABLE_SYMLINKS_WARNING` environment variable. For more details, see https://huggingface.co/docs/huggingface_hub/how-to-cache#limitations.\n",
      "To support symlinks on Windows, you either need to activate Developer Mode or to run Python as an administrator. In order to see activate developer mode, see this article: https://docs.microsoft.com/en-us/windows/apps/get-started/enable-your-device-for-development\n",
      "  warnings.warn(message)\n"
     ]
    },
    {
     "data": {
      "application/vnd.jupyter.widget-view+json": {
       "model_id": "b35b97892e1742a5ada39de61b6fa296",
       "version_major": 2,
       "version_minor": 0
      },
      "text/plain": [
       "pytorch_model.bin:   0%|          | 0.00/409M [00:00<?, ?B/s]"
      ]
     },
     "metadata": {},
     "output_type": "display_data"
    },
    {
     "name": "stderr",
     "output_type": "stream",
     "text": [
      "Some weights of BertForTokenClassification were not initialized from the model checkpoint at ckiplab/bert-base-chinese and are newly initialized: ['classifier.bias', 'classifier.weight']\n",
      "You should probably TRAIN this model on a down-stream task to be able to use it for predictions and inference.\n"
     ]
    },
    {
     "data": {
      "application/vnd.jupyter.widget-view+json": {
       "model_id": "c59c140657804e099dc91857a9f48659",
       "version_major": 2,
       "version_minor": 0
      },
      "text/plain": [
       "model.safetensors:   0%|          | 0.00/409M [00:00<?, ?B/s]"
      ]
     },
     "metadata": {},
     "output_type": "display_data"
    }
   ],
   "source": [
    "from transformers import (\n",
    "   BertTokenizerFast,\n",
    "   AutoModelForMaskedLM,\n",
    "   AutoModelForCausalLM,\n",
    "   AutoModelForTokenClassification,\n",
    ")\n",
    "\n",
    "tokenizer = BertTokenizerFast.from_pretrained('bert-base-chinese')\n",
    "model = AutoModelForTokenClassification.from_pretrained('ckiplab/bert-base-chinese')"
   ]
  },
  {
   "cell_type": "code",
   "execution_count": 21,
   "metadata": {},
   "outputs": [],
   "source": [
    "from ckip_transformers.nlp import CkipWordSegmenter, CkipPosTagger, CkipNerChunker\n",
    "\n",
    "ws_driver  = CkipWordSegmenter(model=\"bert-base\")\n",
    "\n",
    "ner_driver = CkipNerChunker(model=\"bert-base\")"
   ]
  },
  {
   "cell_type": "code",
   "execution_count": 52,
   "metadata": {},
   "outputs": [
    {
     "name": "stderr",
     "output_type": "stream",
     "text": [
      "Tokenization: 100%|██████████| 1/1 [00:00<00:00, 999.36it/s]\n",
      "Inference: 100%|██████████| 1/1 [00:01<00:00,  1.34s/it]\n",
      "Tokenization: 100%|██████████| 1/1 [00:00<00:00, 333.04it/s]\n",
      "Inference: 100%|██████████| 1/1 [00:01<00:00,  1.28s/it]\n"
     ]
    }
   ],
   "source": [
    "text = [\n",
    " \"\"\"三三、 關係人交易\n",
    "智邦公司及子公司（係智邦公司之關係人）間之交易、帳戶餘額、\n",
    "收益及費損於合併時全數予以銷除，故未揭露於本附註。本公司與其\n",
    "他關係人間之交易如下：\n",
    "(一) 關係人名稱及其關係\n",
    "關 係 人 名 稱 與 本 公 司 之 關 係\n",
    "諾雲信息系統（上海）有限公司 實質關係人\n",
    "智宇生醫股份有限公司 關聯企業\n",
    "智上科技股份有限公司 子公司（註）\n",
    "智采科技股份有限公司 關聯企業\n",
    "註：智上科技股份有限公司於 112 年 4 月由關聯企業轉列為子公司。\n",
    "(二) 營業收入\n",
    "112年7月1日 111年7月1日 112年1月1日 111年1月1日\n",
    "帳 列 項 目 關 係 人 名 稱 至9月30日 至9月30日 至9月30日 至9月30日\n",
    "營業收入 智宇生醫公司 $ 104 $ 1,242 $ 1,297 $ 2,222\n",
    "智上公司 - - 580 37\n",
    "智采公司 - - ( 1,883 ) -\n",
    "$ 104 $ 1,242 ( $ 6 ) $ 2,259\n",
    "本公司對關係人銷貨之價格，係依據雙方議定之條件為之，並\n",
    "無適當交易對象可資比較。\n",
    "(三) 營業費用\n",
    "112年7月1日 111年7月1日 112年1月1日 111年1月1日\n",
    "帳 列 項 目 關 係 人 名 稱 至9月30日 至9月30日 至9月30日 至9月30日\n",
    "營業費用 智采公司 $ 2,333 $ - $ 4,717 $ -\n",
    "智上公司 - - 957 -\n",
    "$ 2,333 $ - $ 5,674 $ -\n",
    "本公司與關係人之交易，係依雙方議定條件決定。\n",
    "(四) 營業外收入及損失\n",
    "112年7月1日 111年7月1日 112年1月1日 111年1月1日\n",
    "帳 列 項 目 關 係 人 名 稱 至9月30日 至9月30日 至9月30日 至9月30日\n",
    "其他收入 智宇生醫公司 $ 23 $ 23 $ 69 $ 69\n",
    "智上公司 - 70 - 221\n",
    "智采公司 - - ( 24 ) -\n",
    "$ 23 $ 93 $ 45 $ 290\n",
    "本公司與關係人之交易，係依雙方議定條件決定。\n",
    "- 45 -(五) 應收關係人款項\n",
    "帳 列 項 目 關 係 人 名 稱 112年9月30日 111年12月31日 111年9月30日\n",
    "應收帳款－關係人 智宇生醫公司 $ 37 $ 1,004 $ 167\n",
    "智上公司 - 139 39\n",
    "$ 37 $ 1,143 $ 206\n",
    "本公司對關係人收款條件為交貨後 75 天至 90 天。\n",
    "(六) 其他應收關係人款項\n",
    "帳 列 項 目 關 係 人 名 稱 112年9月30日 111年12月31日 111年9月30日\n",
    "其他應收款－關係人 諾雲信息公司 $ 1,371 $ 5,314 $ 5,389\n",
    "智宇生醫公司 16 16 16\n",
    "智上公司 - 3,628 3,695\n",
    "智采公司 - 265 -\n",
    "$ 1,387 $ 9,223 $ 9,100\n",
    "本公司與關係人之交易，係依雙方議定條件決定。\n",
    "(七) 預付款項\n",
    "關 係 人 類 別 ／ 名 稱 112年9月30日 111年12月31日 111年9月30日\n",
    "智上公司 $ - $ - $ 2,144\n",
    "(八) 主要管理階層薪酬\n",
    "112年7月1日 111年7月1日 112年1月1日 111年1月1日\n",
    "至9月30日 至9月30日 至9月30日 至9月30日\n",
    "短期員工福利 $ 38,077 $ 35,546 $ 168,962 $ 149,757\n",
    "退職後福利 289 270 884 790\n",
    "$ 38,366 $ 35,816 $ 169,846 $ 150,547\n",
    "董事及其他主要管理階層之薪酬係由薪酬委員會依照個人績效\n",
    "及市場趨勢決定。\n",
    "三四、 質抵押之資產\n",
    "本公司下列資產已提供作為關稅及履約保證等之擔保品：\n",
    "112年9月30日 111年12月31日 111年9月30日\n",
    "質押定期存款（帳列其他金\n",
    "融資產－非流動） $ 79,623 $ 79,419 $ 79,419\n",
    "- 46 -\"\"\",\n",
    "\n",
    "   \n",
    "]\n",
    "\n",
    "\n",
    "ws  = ws_driver(text)\n",
    "ner = ner_driver(text)"
   ]
  },
  {
   "cell_type": "code",
   "execution_count": 53,
   "metadata": {},
   "outputs": [
    {
     "data": {
      "text/plain": [
       "[[NerToken(word='諾雲信息公司', ner='ORG', idx=(1097, 1103)),\n",
       "  NerToken(word='\\n112年9月30日', ner='DATE', idx=(1555, 1565)),\n",
       "  NerToken(word='111年12月31日', ner='DATE', idx=(1566, 1576)),\n",
       "  NerToken(word='111年9月30日', ner='DATE', idx=(1577, 1586))]]"
      ]
     },
     "execution_count": 53,
     "metadata": {},
     "output_type": "execute_result"
    }
   ],
   "source": [
    "ner"
   ]
  }
 ],
 "metadata": {
  "kernelspec": {
   "display_name": "poetry3.11",
   "language": "python",
   "name": "python3"
  },
  "language_info": {
   "codemirror_mode": {
    "name": "ipython",
    "version": 3
   },
   "file_extension": ".py",
   "mimetype": "text/x-python",
   "name": "python",
   "nbconvert_exporter": "python",
   "pygments_lexer": "ipython3",
   "version": "3.11.10"
  }
 },
 "nbformat": 4,
 "nbformat_minor": 2
}
