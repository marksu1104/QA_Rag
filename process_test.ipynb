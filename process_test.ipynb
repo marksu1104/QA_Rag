{
 "cells": [
  {
   "cell_type": "markdown",
   "metadata": {},
   "source": [
    "### Load Data and Construct VectorDatabase"
   ]
  },
  {
   "cell_type": "code",
   "execution_count": 1,
   "metadata": {},
   "outputs": [
    {
     "name": "stderr",
     "output_type": "stream",
     "text": [
      "/opt/anaconda3/envs/rag_env/lib/python3.10/site-packages/tqdm/auto.py:21: TqdmWarning: IProgress not found. Please update jupyter and ipywidgets. See https://ipywidgets.readthedocs.io/en/stable/user_install.html\n",
      "  from .autonotebook import tqdm as notebook_tqdm\n"
     ]
    },
    {
     "name": "stdout",
     "output_type": "stream",
     "text": [
      "< VectorDatabase initialized >\n",
      "  - PaddleOCR initialized successfully\n",
      "  - loading data into ChromaDB \n",
      "     - loading [faq] ...\n",
      "        ... collection [faq] deleted.\n",
      "     - loading [insurance] ...\n",
      "        ... collection [insurance] deleted.\n",
      "     - loading [finance] ...\n",
      "        ... collection [finance] deleted.\n"
     ]
    }
   ],
   "source": [
    "from Utils import *\n",
    "import os\n",
    "\n",
    "# initialize the database\n",
    "db = VectorDatabase()\n",
    "\n",
    "# gpu if available\n",
    "os.environ[\"PYTORCH_CUDA_ALLOC_CONF\"] = \"max_split_size_mb:4000\"\n",
    "\n",
    "# initialize the database\n",
    "db.initialize_process(chunk_size=256 ,chunk_overlap=200)"
   ]
  },
  {
   "cell_type": "code",
   "execution_count": 2,
   "metadata": {},
   "outputs": [
    {
     "name": "stdout",
     "output_type": "stream",
     "text": [
      "< VectorDatabase initialized >\n",
      "  - PaddleOCR initialized successfully\n",
      "< Retriever initialized > \n",
      "  - Answers saved to output.json \n",
      "< Evaluation by Ground Truths > \n",
      "  - Retrieval accuracy: 87.33%\n",
      "     - Category: [insurance], Accuracy: 92.00%\n",
      "     - Category: [finance], Accuracy: 72.00%\n",
      "     - Category: [faq], Accuracy: 98.00%\n"
     ]
    }
   ],
   "source": [
    "from Utils import *\n",
    "\n",
    "# initialize the retriever\n",
    "retriever = Retriever()\n",
    "# do question \n",
    "retriever.process_questions(method='final')\n",
    "\n",
    "# evaluate the accuracy\n",
    "evaluator = Evaluation()\n",
    "evaluator.output_evaluation()"
   ]
  },
  {
   "cell_type": "code",
   "execution_count": 3,
   "metadata": {},
   "outputs": [
    {
     "name": "stdout",
     "output_type": "stream",
     "text": [
      "< VectorDatabase initialized >\n",
      "  - PaddleOCR initialized successfully\n",
      "< Retriever initialized > \n",
      "  - Answers saved to output.json \n"
     ]
    }
   ],
   "source": [
    "from Utils import *\n",
    "\n",
    "# initialize the retriever\n",
    "retriever = Retriever(question_path='./dataset/preliminary/questions_preliminary.json')\n",
    "# do question \n",
    "retriever.process_questions(method='final')"
   ]
  },
  {
   "cell_type": "markdown",
   "metadata": {},
   "source": [
    "### Vector Retriever"
   ]
  },
  {
   "cell_type": "code",
   "execution_count": 4,
   "metadata": {},
   "outputs": [
    {
     "name": "stdout",
     "output_type": "stream",
     "text": [
      "< VectorDatabase initialized >\n",
      "  - PaddleOCR initialized successfully\n",
      "< Retriever initialized > \n"
     ]
    },
    {
     "name": "stdout",
     "output_type": "stream",
     "text": [
      "  - Answers saved to output.json \n",
      "< Evaluation by Ground Truths > \n",
      "  - Retrieval accuracy: 87.33%\n",
      "     - Category: [insurance], Accuracy: 90.00%\n",
      "     - Category: [finance], Accuracy: 74.00%\n",
      "     - Category: [faq], Accuracy: 98.00%\n"
     ]
    }
   ],
   "source": [
    "from Utils import *\n",
    "\n",
    "# initialize the retriever\n",
    "retriever = Retriever()\n",
    "# do question \n",
    "retriever.process_questions(method='Vector')\n",
    "\n",
    "# evaluate the accuracy\n",
    "evaluator = Evaluation()\n",
    "evaluator.output_evaluation()"
   ]
  },
  {
   "cell_type": "markdown",
   "metadata": {},
   "source": [
    "### Original BM25 Retriever"
   ]
  },
  {
   "cell_type": "code",
   "execution_count": 6,
   "metadata": {},
   "outputs": [
    {
     "name": "stdout",
     "output_type": "stream",
     "text": [
      "< VectorDatabase initialized >\n",
      "  - PaddleOCR initialized successfully\n",
      "< Retriever initialized > \n",
      "  - Answers saved to output.json \n",
      "< Evaluation by Ground Truths > \n",
      "  - Retrieval accuracy: 74.67%\n",
      "     - Category: [insurance], Accuracy: 82.00%\n",
      "     - Category: [finance], Accuracy: 50.00%\n",
      "     - Category: [faq], Accuracy: 92.00%\n"
     ]
    }
   ],
   "source": [
    "from Utils import *\n",
    "\n",
    "# initialize the retriever\n",
    "retriever = Retriever()\n",
    "# do question \n",
    "retriever.process_questions(method='original')\n",
    "\n",
    "# evaluate the accuracy\n",
    "evaluator = Evaluation()\n",
    "evaluator.output_evaluation()"
   ]
  },
  {
   "cell_type": "markdown",
   "metadata": {},
   "source": [
    "### Llama index BM25"
   ]
  },
  {
   "cell_type": "code",
   "execution_count": 1,
   "metadata": {},
   "outputs": [
    {
     "name": "stderr",
     "output_type": "stream",
     "text": [
      "/opt/anaconda3/envs/rag_env/lib/python3.10/site-packages/tqdm/auto.py:21: TqdmWarning: IProgress not found. Please update jupyter and ipywidgets. See https://ipywidgets.readthedocs.io/en/stable/user_install.html\n",
      "  from .autonotebook import tqdm as notebook_tqdm\n"
     ]
    },
    {
     "name": "stdout",
     "output_type": "stream",
     "text": [
      "< VectorDatabase initialized >\n",
      "  - PaddleOCR initialized successfully\n",
      "< Retriever initialized > \n",
      "  - Answers saved to output.json \n",
      "< Evaluation by Ground Truths > \n",
      "  - Retrieval accuracy: 84.00%\n",
      "     - Category: [insurance], Accuracy: 96.00%\n",
      "     - Category: [finance], Accuracy: 62.00%\n",
      "     - Category: [faq], Accuracy: 94.00%\n"
     ]
    }
   ],
   "source": [
    "from Utils import *\n",
    "\n",
    "# initialize the retriever\n",
    "retriever = Retriever()\n",
    "# do question \n",
    "retriever.process_questions(method='BM25', text_type='c')\n",
    "\n",
    "# evaluate the accuracy\n",
    "evaluator = Evaluation()\n",
    "evaluator.output_evaluation()"
   ]
  },
  {
   "cell_type": "markdown",
   "metadata": {},
   "source": [
    "### BM25 + Vector Fusion Retriever"
   ]
  },
  {
   "cell_type": "code",
   "execution_count": 2,
   "metadata": {},
   "outputs": [
    {
     "name": "stdout",
     "output_type": "stream",
     "text": [
      "< VectorDatabase initialized >\n",
      "  - PaddleOCR initialized successfully\n",
      "< Retriever initialized > \n",
      "  - Answers saved to output.json \n",
      "< Evaluation by Ground Truths > \n",
      "  - Retrieval accuracy: 88.67%\n",
      "     - Category: [insurance], Accuracy: 94.00%\n",
      "     - Category: [finance], Accuracy: 76.00%\n",
      "     - Category: [faq], Accuracy: 96.00%\n"
     ]
    }
   ],
   "source": [
    "from Utils import *\n",
    "\n",
    "# initialize the retriever\n",
    "retriever = Retriever()\n",
    "# do question \n",
    "retriever.process_questions(method='BM25_Vector_rrf',k=60) #100:88% 20:88%\n",
    "\n",
    "# evaluate the accuracy\n",
    "evaluator = Evaluation()\n",
    "evaluator.output_evaluation()"
   ]
  },
  {
   "cell_type": "markdown",
   "metadata": {},
   "source": [
    "### Relative fusion"
   ]
  },
  {
   "cell_type": "code",
   "execution_count": 3,
   "metadata": {},
   "outputs": [
    {
     "name": "stdout",
     "output_type": "stream",
     "text": [
      "< VectorDatabase initialized >\n",
      "  - PaddleOCR initialized successfully\n",
      "< Retriever initialized > \n"
     ]
    },
    {
     "name": "stderr",
     "output_type": "stream",
     "text": [
      "[2024-11-18 22:51:43,641] [   ERROR] _common.py:120 - Giving up send_request(...) after 4 tries (posthog.request.APIError: [PostHog] upstream connect error or disconnect/reset before headers. reset reason: overflow (503))\n"
     ]
    },
    {
     "name": "stdout",
     "output_type": "stream",
     "text": [
      "  - Answers saved to output.json \n",
      "< Evaluation by Ground Truths > \n",
      "  - Retrieval accuracy: 88.00%\n",
      "     - Category: [insurance], Accuracy: 92.00%\n",
      "     - Category: [finance], Accuracy: 74.00%\n",
      "     - Category: [faq], Accuracy: 98.00%\n"
     ]
    }
   ],
   "source": [
    "from Utils import *\n",
    "\n",
    "# initialize the retriever\n",
    "retriever = Retriever()\n",
    "# do question \n",
    "retriever.process_questions(method='relative_fusion',weight=0.8)\n",
    "\n",
    "# evaluate the accuracy\n",
    "evaluator = Evaluation()\n",
    "evaluator.output_evaluation()"
   ]
  },
  {
   "cell_type": "markdown",
   "metadata": {},
   "source": [
    "### Distribution fusion"
   ]
  },
  {
   "cell_type": "code",
   "execution_count": 4,
   "metadata": {},
   "outputs": [
    {
     "name": "stdout",
     "output_type": "stream",
     "text": [
      "< VectorDatabase initialized >\n",
      "  - PaddleOCR initialized successfully\n",
      "< Retriever initialized > \n"
     ]
    },
    {
     "name": "stdout",
     "output_type": "stream",
     "text": [
      "  - Answers saved to output.json \n",
      "< Evaluation by Ground Truths > \n",
      "  - Retrieval accuracy: 85.33%\n",
      "     - Category: [insurance], Accuracy: 94.00%\n",
      "     - Category: [finance], Accuracy: 66.00%\n",
      "     - Category: [faq], Accuracy: 96.00%\n"
     ]
    }
   ],
   "source": [
    "from Utils import *\n",
    "\n",
    "# initialize the retriever\n",
    "retriever = Retriever()\n",
    "# do question \n",
    "retriever.process_questions(method='distribution_fusion')\n",
    "\n",
    "# evaluate the accuracy\n",
    "evaluator = Evaluation()\n",
    "evaluator.output_evaluation()"
   ]
  }
 ],
 "metadata": {
  "kernelspec": {
   "display_name": "rag_env",
   "language": "python",
   "name": "python3"
  },
  "language_info": {
   "codemirror_mode": {
    "name": "ipython",
    "version": 3
   },
   "file_extension": ".py",
   "mimetype": "text/x-python",
   "name": "python",
   "nbconvert_exporter": "python",
   "pygments_lexer": "ipython3",
   "version": "3.10.15"
  }
 },
 "nbformat": 4,
 "nbformat_minor": 2
}
