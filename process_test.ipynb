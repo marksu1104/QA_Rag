{
 "cells": [
  {
   "cell_type": "code",
   "execution_count": 1,
   "metadata": {},
   "outputs": [
    {
     "name": "stdout",
     "output_type": "stream",
     "text": [
      "\n",
      "< VectorDatabase initialized > \n"
     ]
    }
   ],
   "source": [
    "from Utils import *\n",
    "import os\n",
    "\n",
    "# initialize the database\n",
    "db = VectorDatabase()\n",
    "\n",
    "# gpu if available\n",
    "os.environ[\"PYTORCH_CUDA_ALLOC_CONF\"] = \"max_split_size_mb:4000\"\n",
    "\n",
    "# initialize the database\n",
    "#db.initialize_process(chunk_size=256 ,chunk_overlap=200)"
   ]
  },
  {
   "cell_type": "code",
   "execution_count": 2,
   "metadata": {},
   "outputs": [
    {
     "name": "stdout",
     "output_type": "stream",
     "text": [
      "\n",
      "< VectorDatabase initialized > \n"
     ]
    },
    {
     "name": "stderr",
     "output_type": "stream",
     "text": [
      "Building prefix dict from the default dictionary ...\n",
      "Loading model from cache C:\\Users\\marks\\AppData\\Local\\Temp\\jieba.cache\n"
     ]
    },
    {
     "name": "stdout",
     "output_type": "stream",
     "text": [
      "\n",
      "< Retriever initialized > \n"
     ]
    },
    {
     "name": "stderr",
     "output_type": "stream",
     "text": [
      "Loading model cost 0.627 seconds.\n",
      "Prefix dict has been built successfully.\n"
     ]
    },
    {
     "name": "stdout",
     "output_type": "stream",
     "text": [
      "  - Answers saved to output.json \n",
      "\n",
      "< Evaluation by Ground Truths > \n",
      "  - Retrieval accuracy: 79.33%\n",
      "     - Category: [insurance], Accuracy: 88.00%\n",
      "     - Category: [finance], Accuracy: 58.00%\n",
      "     - Category: [faq], Accuracy: 92.00%\n"
     ]
    }
   ],
   "source": [
    "from Utils import *\n",
    "\n",
    "# initialize the retriever\n",
    "retriever = Retriever()\n",
    "# do question \n",
    "retriever.process_questions(method='BM25_Vector')\n",
    "\n",
    "# evaluate the accuracy\n",
    "evaluator = Evaluation()\n",
    "evaluator.output_evaluation()"
   ]
  },
  {
   "cell_type": "code",
   "execution_count": 3,
   "metadata": {},
   "outputs": [
    {
     "name": "stdout",
     "output_type": "stream",
     "text": [
      "\n",
      "< VectorDatabase initialized > \n",
      "\n",
      "< Retriever initialized > \n",
      "  - Answers saved to output.json \n"
     ]
    }
   ],
   "source": [
    "from Utils import *\n",
    "\n",
    "# initialize the retriever\n",
    "retriever = Retriever()\n",
    "# do question \n",
    "retriever.process_questions(method='Vector')"
   ]
  },
  {
   "cell_type": "code",
   "execution_count": 4,
   "metadata": {},
   "outputs": [
    {
     "name": "stdout",
     "output_type": "stream",
     "text": [
      "\n",
      "< Evaluation by Ground Truths > \n",
      "  - Retrieval accuracy: 86.00%\n",
      "     - Category: [insurance], Accuracy: 88.00%\n",
      "     - Category: [finance], Accuracy: 74.00%\n",
      "     - Category: [faq], Accuracy: 96.00%\n"
     ]
    }
   ],
   "source": [
    "from Utils import *\n",
    "\n",
    "# evaluate the accuracy\n",
    "evaluator = Evaluation()\n",
    "evaluator.output_evaluation()"
   ]
  }
 ],
 "metadata": {
  "kernelspec": {
   "display_name": "poetry3.11",
   "language": "python",
   "name": "python3"
  },
  "language_info": {
   "codemirror_mode": {
    "name": "ipython",
    "version": 3
   },
   "file_extension": ".py",
   "mimetype": "text/x-python",
   "name": "python",
   "nbconvert_exporter": "python",
   "pygments_lexer": "ipython3",
   "version": "3.11.10"
  }
 },
 "nbformat": 4,
 "nbformat_minor": 2
}
